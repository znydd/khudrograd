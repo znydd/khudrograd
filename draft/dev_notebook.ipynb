{
 "cells": [
  {
   "cell_type": "code",
   "execution_count": 19,
   "metadata": {},
   "outputs": [],
   "source": [
    "import numpy as np"
   ]
  },
  {
   "cell_type": "code",
   "execution_count": 20,
   "metadata": {},
   "outputs": [],
   "source": [
    "class Tensor:\n",
    "\n",
    "    def __init__(self, data, label=''):\n",
    "        self.data = data\n",
    "        self.grad = 0.0\n",
    "        self.childrens = []\n",
    "        self.operation = ''\n",
    "        self._backward = lambda:None\n",
    "        self.label = label\n",
    "\n",
    "    # Addition\n",
    "    def __add__(self,other):\n",
    "        if not isinstance(other, Tensor):\n",
    "            other = Tensor(other)\n",
    "        \n",
    "        res_obj = Tensor(self.data + other.data)\n",
    "        res_obj.childrens+=[self, other]\n",
    "        res_obj.operation = '+'\n",
    "        \n",
    "        def _backward():\n",
    "            self.grad = res_obj.grad * 1.0\n",
    "            other.grad = res_obj.grad * 1.0\n",
    "        res_obj._backward = _backward\n",
    "        \n",
    "        return res_obj\n",
    "    \n",
    "    def __radd__(self, other):\n",
    "        other = Tensor(other)\n",
    "        res_obj = Tensor(self.data + other.data)\n",
    "        res_obj.childrens+=[other, self]\n",
    "        res_obj.operation = '+'\n",
    "        \n",
    "        return res_obj\n",
    "    \n",
    "    # Multiplication\n",
    "    def __mul__(self,other):             \n",
    "        if not isinstance(other, Tensor):\n",
    "            other = Tensor(other)\n",
    "        \n",
    "        res_obj = Tensor(self.data * other.data) \n",
    "        res_obj.childrens+=[self, other]\n",
    "        res_obj.operation = '*'\n",
    "        \n",
    "        def _backward():\n",
    "            self.grad = res_obj.grad * other.data\n",
    "            other.grad = res_obj.grad * self.data\n",
    "        res_obj._backward = _backward\n",
    "        \n",
    "        return res_obj\n",
    "    \n",
    "    def __rmul__(self, other):\n",
    "        other = Tensor(other)\n",
    "        res_obj = Tensor(self.data * other.data)\n",
    "        res_obj.childrens+=[other, self]\n",
    "        res_obj.operation = '*'\n",
    "        return res_obj\n",
    "    \n",
    "    \n",
    "    def __repr__(self):\n",
    "        return f\"Tensor({self.data})\""
   ]
  },
  {
   "cell_type": "code",
   "execution_count": 21,
   "metadata": {},
   "outputs": [
    {
     "data": {
      "text/plain": [
       "Tensor(38.0)"
      ]
     },
     "execution_count": 21,
     "metadata": {},
     "output_type": "execute_result"
    }
   ],
   "source": [
    "a = Tensor(3.0, label = 'a')\n",
    "b = Tensor(9.0, label = 'b')\n",
    "c = Tensor(6.0, label = 'c')\n",
    "d = Tensor(5.0, label = 'd')\n",
    "e = Tensor(1.0, label = 'e')\n",
    "f = a * b; f.label = 'f'\n",
    "g = f + c; g.label = 'g'\n",
    "h = g + d; h.label = 'h'\n",
    "i = h * e; i.label = 'i'\n",
    "i"
   ]
  },
  {
   "cell_type": "code",
   "execution_count": 22,
   "metadata": {},
   "outputs": [
    {
     "data": {
      "text/plain": [
       "[Tensor(38.0), Tensor(1.0)]"
      ]
     },
     "execution_count": 22,
     "metadata": {},
     "output_type": "execute_result"
    }
   ],
   "source": [
    "i.childrens"
   ]
  },
  {
   "cell_type": "code",
   "execution_count": 23,
   "metadata": {},
   "outputs": [
    {
     "data": {
      "text/plain": [
       "'*'"
      ]
     },
     "execution_count": 23,
     "metadata": {},
     "output_type": "execute_result"
    }
   ],
   "source": [
    "i.operation"
   ]
  },
  {
   "cell_type": "code",
   "execution_count": 24,
   "metadata": {},
   "outputs": [],
   "source": [
    "from graphviz import Digraph\n",
    "\n",
    "def trace(root):\n",
    "  # builds a set of all nodes and edges in a graph\n",
    "  nodes, edges = set(), set()\n",
    "  def build(v):\n",
    "    if v not in nodes:\n",
    "      nodes.add(v)\n",
    "      for child in v.childrens:\n",
    "        edges.add((child, v))\n",
    "        build(child)\n",
    "  build(root)\n",
    "  return nodes, edges\n",
    "\n",
    "def draw_dot(root):\n",
    "  dot = Digraph(format='svg', graph_attr={'rankdir': 'LR'}) # LR = left to right\n",
    "\n",
    "  nodes, edges = trace(root)\n",
    "  for n in nodes:\n",
    "    uid = str(id(n))\n",
    "    # for any value in the graph, create a rectangular ('record') node for it\n",
    "    dot.node(name = uid, label = \"{ %s | data %.4f | grad %.4f}\" % (n.label, n.data, n.grad), shape='record')\n",
    "    if n.operation:\n",
    "      # if this value is a result of some operation, create an op node for it\n",
    "      dot.node(name = uid + n.operation, label = n.operation)\n",
    "      # and connect this node to it\n",
    "      dot.edge(uid + n.operation, uid)\n",
    "\n",
    "  for n1, n2 in edges:\n",
    "    # connect n1 to the op node of n2\n",
    "    dot.edge(str(id(n1)), str(id(n2)) + n2.operation)\n",
    "\n",
    "  return dot"
   ]
  },
  {
   "cell_type": "code",
   "execution_count": 35,
   "metadata": {},
   "outputs": [
    {
     "data": {
      "image/svg+xml": [
       "<?xml version=\"1.0\" encoding=\"UTF-8\" standalone=\"no\"?>\n",
       "<!DOCTYPE svg PUBLIC \"-//W3C//DTD SVG 1.1//EN\"\n",
       " \"http://www.w3.org/Graphics/SVG/1.1/DTD/svg11.dtd\">\n",
       "<!-- Generated by graphviz version 2.43.0 (0)\n",
       " -->\n",
       "<!-- Title: %3 Pages: 1 -->\n",
       "<svg width=\"1699pt\" height=\"184pt\"\n",
       " viewBox=\"0.00 0.00 1699.00 184.00\" xmlns=\"http://www.w3.org/2000/svg\" xmlns:xlink=\"http://www.w3.org/1999/xlink\">\n",
       "<g id=\"graph0\" class=\"graph\" transform=\"scale(1 1) rotate(0) translate(4 180)\">\n",
       "<title>%3</title>\n",
       "<polygon fill=\"white\" stroke=\"transparent\" points=\"-4,4 -4,-180 1695,-180 1695,4 -4,4\"/>\n",
       "<!-- 140254040927808 -->\n",
       "<g id=\"node1\" class=\"node\">\n",
       "<title>140254040927808</title>\n",
       "<polygon fill=\"none\" stroke=\"black\" points=\"0.5,-139.5 0.5,-175.5 231.5,-175.5 231.5,-139.5 0.5,-139.5\"/>\n",
       "<text text-anchor=\"middle\" x=\"13\" y=\"-153.8\" font-family=\"Times,serif\" font-size=\"14.00\">a</text>\n",
       "<polyline fill=\"none\" stroke=\"black\" points=\"25.5,-139.5 25.5,-175.5 \"/>\n",
       "<text text-anchor=\"middle\" x=\"76.5\" y=\"-153.8\" font-family=\"Times,serif\" font-size=\"14.00\">data 3.0000</text>\n",
       "<polyline fill=\"none\" stroke=\"black\" points=\"127.5,-139.5 127.5,-175.5 \"/>\n",
       "<text text-anchor=\"middle\" x=\"179.5\" y=\"-153.8\" font-family=\"Times,serif\" font-size=\"14.00\">grad 9.0000</text>\n",
       "</g>\n",
       "<!-- 140253639447888* -->\n",
       "<g id=\"node12\" class=\"node\">\n",
       "<title>140253639447888*</title>\n",
       "<ellipse fill=\"none\" stroke=\"black\" cx=\"295\" cy=\"-129.5\" rx=\"27\" ry=\"18\"/>\n",
       "<text text-anchor=\"middle\" x=\"295\" y=\"-125.8\" font-family=\"Times,serif\" font-size=\"14.00\">*</text>\n",
       "</g>\n",
       "<!-- 140254040927808&#45;&gt;140253639447888* -->\n",
       "<g id=\"edge5\" class=\"edge\">\n",
       "<title>140254040927808&#45;&gt;140253639447888*</title>\n",
       "<path fill=\"none\" stroke=\"black\" d=\"M231.1,-139.45C240.88,-137.9 250.21,-136.43 258.54,-135.11\"/>\n",
       "<polygon fill=\"black\" stroke=\"black\" points=\"259.19,-138.55 268.52,-133.53 258.1,-131.64 259.19,-138.55\"/>\n",
       "</g>\n",
       "<!-- 140253639451776 -->\n",
       "<g id=\"node2\" class=\"node\">\n",
       "<title>140253639451776</title>\n",
       "<polygon fill=\"none\" stroke=\"black\" points=\"725.5,-28.5 725.5,-64.5 957.5,-64.5 957.5,-28.5 725.5,-28.5\"/>\n",
       "<text text-anchor=\"middle\" x=\"738.5\" y=\"-42.8\" font-family=\"Times,serif\" font-size=\"14.00\">d</text>\n",
       "<polyline fill=\"none\" stroke=\"black\" points=\"751.5,-28.5 751.5,-64.5 \"/>\n",
       "<text text-anchor=\"middle\" x=\"802.5\" y=\"-42.8\" font-family=\"Times,serif\" font-size=\"14.00\">data 5.0000</text>\n",
       "<polyline fill=\"none\" stroke=\"black\" points=\"853.5,-28.5 853.5,-64.5 \"/>\n",
       "<text text-anchor=\"middle\" x=\"905.5\" y=\"-42.8\" font-family=\"Times,serif\" font-size=\"14.00\">grad 1.0000</text>\n",
       "</g>\n",
       "<!-- 140253639443760+ -->\n",
       "<g id=\"node9\" class=\"node\">\n",
       "<title>140253639443760+</title>\n",
       "<ellipse fill=\"none\" stroke=\"black\" cx=\"1025\" cy=\"-73.5\" rx=\"27\" ry=\"18\"/>\n",
       "<text text-anchor=\"middle\" x=\"1025\" y=\"-69.8\" font-family=\"Times,serif\" font-size=\"14.00\">+</text>\n",
       "</g>\n",
       "<!-- 140253639451776&#45;&gt;140253639443760+ -->\n",
       "<g id=\"edge8\" class=\"edge\">\n",
       "<title>140253639451776&#45;&gt;140253639443760+</title>\n",
       "<path fill=\"none\" stroke=\"black\" d=\"M957.7,-63.64C968.59,-65.26 978.97,-66.8 988.15,-68.17\"/>\n",
       "<polygon fill=\"black\" stroke=\"black\" points=\"987.93,-71.67 998.34,-69.68 988.96,-64.75 987.93,-71.67\"/>\n",
       "</g>\n",
       "<!-- 140253639451824 -->\n",
       "<g id=\"node3\" class=\"node\">\n",
       "<title>140253639451824</title>\n",
       "<polygon fill=\"none\" stroke=\"black\" points=\"361.5,-56.5 361.5,-92.5 591.5,-92.5 591.5,-56.5 361.5,-56.5\"/>\n",
       "<text text-anchor=\"middle\" x=\"373.5\" y=\"-70.8\" font-family=\"Times,serif\" font-size=\"14.00\">c</text>\n",
       "<polyline fill=\"none\" stroke=\"black\" points=\"385.5,-56.5 385.5,-92.5 \"/>\n",
       "<text text-anchor=\"middle\" x=\"436.5\" y=\"-70.8\" font-family=\"Times,serif\" font-size=\"14.00\">data 6.0000</text>\n",
       "<polyline fill=\"none\" stroke=\"black\" points=\"487.5,-56.5 487.5,-92.5 \"/>\n",
       "<text text-anchor=\"middle\" x=\"539.5\" y=\"-70.8\" font-family=\"Times,serif\" font-size=\"14.00\">grad 1.0000</text>\n",
       "</g>\n",
       "<!-- 140253639443664+ -->\n",
       "<g id=\"node5\" class=\"node\">\n",
       "<title>140253639443664+</title>\n",
       "<ellipse fill=\"none\" stroke=\"black\" cx=\"658\" cy=\"-101.5\" rx=\"27\" ry=\"18\"/>\n",
       "<text text-anchor=\"middle\" x=\"658\" y=\"-97.8\" font-family=\"Times,serif\" font-size=\"14.00\">+</text>\n",
       "</g>\n",
       "<!-- 140253639451824&#45;&gt;140253639443664+ -->\n",
       "<g id=\"edge7\" class=\"edge\">\n",
       "<title>140253639451824&#45;&gt;140253639443664+</title>\n",
       "<path fill=\"none\" stroke=\"black\" d=\"M591.69,-91.68C602.32,-93.28 612.46,-94.8 621.45,-96.15\"/>\n",
       "<polygon fill=\"black\" stroke=\"black\" points=\"621.01,-99.63 631.42,-97.65 622.05,-92.7 621.01,-99.63\"/>\n",
       "</g>\n",
       "<!-- 140253639443664 -->\n",
       "<g id=\"node4\" class=\"node\">\n",
       "<title>140253639443664</title>\n",
       "<polygon fill=\"none\" stroke=\"black\" points=\"721,-83.5 721,-119.5 962,-119.5 962,-83.5 721,-83.5\"/>\n",
       "<text text-anchor=\"middle\" x=\"734\" y=\"-97.8\" font-family=\"Times,serif\" font-size=\"14.00\">g</text>\n",
       "<polyline fill=\"none\" stroke=\"black\" points=\"747,-83.5 747,-119.5 \"/>\n",
       "<text text-anchor=\"middle\" x=\"802.5\" y=\"-97.8\" font-family=\"Times,serif\" font-size=\"14.00\">data 33.0000</text>\n",
       "<polyline fill=\"none\" stroke=\"black\" points=\"858,-83.5 858,-119.5 \"/>\n",
       "<text text-anchor=\"middle\" x=\"910\" y=\"-97.8\" font-family=\"Times,serif\" font-size=\"14.00\">grad 1.0000</text>\n",
       "</g>\n",
       "<!-- 140253639443664&#45;&gt;140253639443760+ -->\n",
       "<g id=\"edge9\" class=\"edge\">\n",
       "<title>140253639443664&#45;&gt;140253639443760+</title>\n",
       "<path fill=\"none\" stroke=\"black\" d=\"M959.24,-83.49C969.61,-81.89 979.49,-80.37 988.27,-79.01\"/>\n",
       "<polygon fill=\"black\" stroke=\"black\" points=\"989.03,-82.44 998.38,-77.45 987.97,-75.52 989.03,-82.44\"/>\n",
       "</g>\n",
       "<!-- 140253639443664+&#45;&gt;140253639443664 -->\n",
       "<g id=\"edge1\" class=\"edge\">\n",
       "<title>140253639443664+&#45;&gt;140253639443664</title>\n",
       "<path fill=\"none\" stroke=\"black\" d=\"M685,-101.5C692.5,-101.5 701.22,-101.5 710.64,-101.5\"/>\n",
       "<polygon fill=\"black\" stroke=\"black\" points=\"710.68,-105 720.68,-101.5 710.68,-98 710.68,-105\"/>\n",
       "</g>\n",
       "<!-- 140253639443232 -->\n",
       "<g id=\"node6\" class=\"node\">\n",
       "<title>140253639443232</title>\n",
       "<polygon fill=\"none\" stroke=\"black\" points=\"1455,-27.5 1455,-63.5 1691,-63.5 1691,-27.5 1455,-27.5\"/>\n",
       "<text text-anchor=\"middle\" x=\"1465.5\" y=\"-41.8\" font-family=\"Times,serif\" font-size=\"14.00\">i</text>\n",
       "<polyline fill=\"none\" stroke=\"black\" points=\"1476,-27.5 1476,-63.5 \"/>\n",
       "<text text-anchor=\"middle\" x=\"1531.5\" y=\"-41.8\" font-family=\"Times,serif\" font-size=\"14.00\">data 38.0000</text>\n",
       "<polyline fill=\"none\" stroke=\"black\" points=\"1587,-27.5 1587,-63.5 \"/>\n",
       "<text text-anchor=\"middle\" x=\"1639\" y=\"-41.8\" font-family=\"Times,serif\" font-size=\"14.00\">grad 1.0000</text>\n",
       "</g>\n",
       "<!-- 140253639443232* -->\n",
       "<g id=\"node7\" class=\"node\">\n",
       "<title>140253639443232*</title>\n",
       "<ellipse fill=\"none\" stroke=\"black\" cx=\"1392\" cy=\"-45.5\" rx=\"27\" ry=\"18\"/>\n",
       "<text text-anchor=\"middle\" x=\"1392\" y=\"-41.8\" font-family=\"Times,serif\" font-size=\"14.00\">*</text>\n",
       "</g>\n",
       "<!-- 140253639443232*&#45;&gt;140253639443232 -->\n",
       "<g id=\"edge2\" class=\"edge\">\n",
       "<title>140253639443232*&#45;&gt;140253639443232</title>\n",
       "<path fill=\"none\" stroke=\"black\" d=\"M1419.03,-45.5C1426.58,-45.5 1435.38,-45.5 1444.87,-45.5\"/>\n",
       "<polygon fill=\"black\" stroke=\"black\" points=\"1444.99,-49 1454.99,-45.5 1444.99,-42 1444.99,-49\"/>\n",
       "</g>\n",
       "<!-- 140253639443760 -->\n",
       "<g id=\"node8\" class=\"node\">\n",
       "<title>140253639443760</title>\n",
       "<polygon fill=\"none\" stroke=\"black\" points=\"1088,-55.5 1088,-91.5 1329,-91.5 1329,-55.5 1088,-55.5\"/>\n",
       "<text text-anchor=\"middle\" x=\"1101\" y=\"-69.8\" font-family=\"Times,serif\" font-size=\"14.00\">h</text>\n",
       "<polyline fill=\"none\" stroke=\"black\" points=\"1114,-55.5 1114,-91.5 \"/>\n",
       "<text text-anchor=\"middle\" x=\"1169.5\" y=\"-69.8\" font-family=\"Times,serif\" font-size=\"14.00\">data 38.0000</text>\n",
       "<polyline fill=\"none\" stroke=\"black\" points=\"1225,-55.5 1225,-91.5 \"/>\n",
       "<text text-anchor=\"middle\" x=\"1277\" y=\"-69.8\" font-family=\"Times,serif\" font-size=\"14.00\">grad 1.0000</text>\n",
       "</g>\n",
       "<!-- 140253639443760&#45;&gt;140253639443232* -->\n",
       "<g id=\"edge11\" class=\"edge\">\n",
       "<title>140253639443760&#45;&gt;140253639443232*</title>\n",
       "<path fill=\"none\" stroke=\"black\" d=\"M1326.24,-55.49C1336.61,-53.89 1346.49,-52.37 1355.27,-51.01\"/>\n",
       "<polygon fill=\"black\" stroke=\"black\" points=\"1356.03,-54.44 1365.38,-49.45 1354.97,-47.52 1356.03,-54.44\"/>\n",
       "</g>\n",
       "<!-- 140253639443760+&#45;&gt;140253639443760 -->\n",
       "<g id=\"edge3\" class=\"edge\">\n",
       "<title>140253639443760+&#45;&gt;140253639443760</title>\n",
       "<path fill=\"none\" stroke=\"black\" d=\"M1052,-73.5C1059.5,-73.5 1068.22,-73.5 1077.64,-73.5\"/>\n",
       "<polygon fill=\"black\" stroke=\"black\" points=\"1077.68,-77 1087.68,-73.5 1077.68,-70 1077.68,-77\"/>\n",
       "</g>\n",
       "<!-- 140253639452448 -->\n",
       "<g id=\"node10\" class=\"node\">\n",
       "<title>140253639452448</title>\n",
       "<polygon fill=\"none\" stroke=\"black\" points=\"0,-84.5 0,-120.5 232,-120.5 232,-84.5 0,-84.5\"/>\n",
       "<text text-anchor=\"middle\" x=\"13\" y=\"-98.8\" font-family=\"Times,serif\" font-size=\"14.00\">b</text>\n",
       "<polyline fill=\"none\" stroke=\"black\" points=\"26,-84.5 26,-120.5 \"/>\n",
       "<text text-anchor=\"middle\" x=\"77\" y=\"-98.8\" font-family=\"Times,serif\" font-size=\"14.00\">data 9.0000</text>\n",
       "<polyline fill=\"none\" stroke=\"black\" points=\"128,-84.5 128,-120.5 \"/>\n",
       "<text text-anchor=\"middle\" x=\"180\" y=\"-98.8\" font-family=\"Times,serif\" font-size=\"14.00\">grad 3.0000</text>\n",
       "</g>\n",
       "<!-- 140253639452448&#45;&gt;140253639447888* -->\n",
       "<g id=\"edge6\" class=\"edge\">\n",
       "<title>140253639452448&#45;&gt;140253639447888*</title>\n",
       "<path fill=\"none\" stroke=\"black\" d=\"M232.09,-120.06C241.46,-121.49 250.39,-122.85 258.4,-124.07\"/>\n",
       "<polygon fill=\"black\" stroke=\"black\" points=\"257.96,-127.54 268.37,-125.59 259.01,-120.62 257.96,-127.54\"/>\n",
       "</g>\n",
       "<!-- 140253639447888 -->\n",
       "<g id=\"node11\" class=\"node\">\n",
       "<title>140253639447888</title>\n",
       "<polygon fill=\"none\" stroke=\"black\" points=\"358,-111.5 358,-147.5 595,-147.5 595,-111.5 358,-111.5\"/>\n",
       "<text text-anchor=\"middle\" x=\"369\" y=\"-125.8\" font-family=\"Times,serif\" font-size=\"14.00\">f</text>\n",
       "<polyline fill=\"none\" stroke=\"black\" points=\"380,-111.5 380,-147.5 \"/>\n",
       "<text text-anchor=\"middle\" x=\"435.5\" y=\"-125.8\" font-family=\"Times,serif\" font-size=\"14.00\">data 27.0000</text>\n",
       "<polyline fill=\"none\" stroke=\"black\" points=\"491,-111.5 491,-147.5 \"/>\n",
       "<text text-anchor=\"middle\" x=\"543\" y=\"-125.8\" font-family=\"Times,serif\" font-size=\"14.00\">grad 1.0000</text>\n",
       "</g>\n",
       "<!-- 140253639447888&#45;&gt;140253639443664+ -->\n",
       "<g id=\"edge10\" class=\"edge\">\n",
       "<title>140253639447888&#45;&gt;140253639443664+</title>\n",
       "<path fill=\"none\" stroke=\"black\" d=\"M592.96,-111.49C603.12,-109.91 612.8,-108.4 621.41,-107.05\"/>\n",
       "<polygon fill=\"black\" stroke=\"black\" points=\"622.02,-110.5 631.36,-105.5 620.94,-103.58 622.02,-110.5\"/>\n",
       "</g>\n",
       "<!-- 140253639447888*&#45;&gt;140253639447888 -->\n",
       "<g id=\"edge4\" class=\"edge\">\n",
       "<title>140253639447888*&#45;&gt;140253639447888</title>\n",
       "<path fill=\"none\" stroke=\"black\" d=\"M322.1,-129.5C329.61,-129.5 338.33,-129.5 347.75,-129.5\"/>\n",
       "<polygon fill=\"black\" stroke=\"black\" points=\"347.78,-133 357.78,-129.5 347.78,-126 347.78,-133\"/>\n",
       "</g>\n",
       "<!-- 140253639452016 -->\n",
       "<g id=\"node13\" class=\"node\">\n",
       "<title>140253639452016</title>\n",
       "<polygon fill=\"none\" stroke=\"black\" points=\"1088.5,-0.5 1088.5,-36.5 1328.5,-36.5 1328.5,-0.5 1088.5,-0.5\"/>\n",
       "<text text-anchor=\"middle\" x=\"1101\" y=\"-14.8\" font-family=\"Times,serif\" font-size=\"14.00\">e</text>\n",
       "<polyline fill=\"none\" stroke=\"black\" points=\"1113.5,-0.5 1113.5,-36.5 \"/>\n",
       "<text text-anchor=\"middle\" x=\"1164.5\" y=\"-14.8\" font-family=\"Times,serif\" font-size=\"14.00\">data 1.0000</text>\n",
       "<polyline fill=\"none\" stroke=\"black\" points=\"1215.5,-0.5 1215.5,-36.5 \"/>\n",
       "<text text-anchor=\"middle\" x=\"1272\" y=\"-14.8\" font-family=\"Times,serif\" font-size=\"14.00\">grad 38.0000</text>\n",
       "</g>\n",
       "<!-- 140253639452016&#45;&gt;140253639443232* -->\n",
       "<g id=\"edge12\" class=\"edge\">\n",
       "<title>140253639452016&#45;&gt;140253639443232*</title>\n",
       "<path fill=\"none\" stroke=\"black\" d=\"M1328.54,-36.21C1338.11,-37.63 1347.21,-38.99 1355.36,-40.2\"/>\n",
       "<polygon fill=\"black\" stroke=\"black\" points=\"1355.08,-43.69 1365.49,-41.7 1356.11,-36.77 1355.08,-43.69\"/>\n",
       "</g>\n",
       "</g>\n",
       "</svg>\n"
      ],
      "text/plain": [
       "<graphviz.graphs.Digraph at 0x7f8f585b8680>"
      ]
     },
     "execution_count": 35,
     "metadata": {},
     "output_type": "execute_result"
    }
   ],
   "source": [
    "draw_dot(i)"
   ]
  },
  {
   "cell_type": "code",
   "execution_count": 26,
   "metadata": {},
   "outputs": [],
   "source": [
    "i.grad = 1.0"
   ]
  },
  {
   "cell_type": "code",
   "execution_count": 31,
   "metadata": {},
   "outputs": [],
   "source": [
    "i._backward()"
   ]
  },
  {
   "cell_type": "code",
   "execution_count": 32,
   "metadata": {},
   "outputs": [],
   "source": [
    "h._backward()"
   ]
  },
  {
   "cell_type": "code",
   "execution_count": 33,
   "metadata": {},
   "outputs": [],
   "source": [
    "g._backward()"
   ]
  },
  {
   "cell_type": "code",
   "execution_count": 34,
   "metadata": {},
   "outputs": [],
   "source": [
    "f._backward()"
   ]
  },
  {
   "cell_type": "code",
   "execution_count": 19,
   "metadata": {},
   "outputs": [],
   "source": [
    "import random\n",
    "import numpy as np"
   ]
  },
  {
   "cell_type": "code",
   "execution_count": 20,
   "metadata": {},
   "outputs": [
    {
     "data": {
      "text/plain": [
       "[array(0.31797591),\n",
       " array(-0.64197888),\n",
       " array(0.02196568),\n",
       " array(-0.77081094),\n",
       " array(-0.4552368),\n",
       " array(0.73275572),\n",
       " array(-0.75956854),\n",
       " array(0.59116328),\n",
       " array(-0.88371987),\n",
       " array(0.31062294)]"
      ]
     },
     "execution_count": 20,
     "metadata": {},
     "output_type": "execute_result"
    }
   ],
   "source": [
    "x = [np.array(random.uniform(-1,1)) for _ in range(10)]\n",
    "x"
   ]
  }
 ],
 "metadata": {
  "kernelspec": {
   "display_name": "venv",
   "language": "python",
   "name": "python3"
  },
  "language_info": {
   "codemirror_mode": {
    "name": "ipython",
    "version": 3
   },
   "file_extension": ".py",
   "mimetype": "text/x-python",
   "name": "python",
   "nbconvert_exporter": "python",
   "pygments_lexer": "ipython3",
   "version": "3.12.4"
  }
 },
 "nbformat": 4,
 "nbformat_minor": 2
}
